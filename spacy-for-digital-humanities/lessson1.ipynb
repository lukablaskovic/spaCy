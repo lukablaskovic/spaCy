{
 "cells": [
  {
   "cell_type": "markdown",
   "id": "5eed12e2-2388-4a06-bd1c-40336633fea4",
   "metadata": {},
   "source": [
    "# Introduction to SpaCy and Cleaning Data (SpaCy and Python Tutorials for DH - 01)"
   ]
  },
  {
   "cell_type": "markdown",
   "id": "433a89bb-43c6-4066-abf2-88c6967b7a26",
   "metadata": {},
   "source": [
    "## Youtube playlist - https://youtu.be/8HZ4BjWMod4?list=PL2VXyKi-KpYvuOdPwXR-FZfmZ0hjoNSUo"
   ]
  },
  {
   "cell_type": "markdown",
   "id": "2d5578f3-f1bc-4e58-9b8a-edb7b05cc676",
   "metadata": {},
   "source": [
    "## Python Humanities - http://ner.pythonhumanities.com/intro.html"
   ]
  },
  {
   "cell_type": "code",
   "execution_count": null,
   "id": "7b1528fc-853b-423c-bb83-dbdc9b1ac0f3",
   "metadata": {},
   "outputs": [],
   "source": []
  },
  {
   "cell_type": "code",
   "execution_count": null,
   "id": "17b8cc33-e0b5-4ea5-a6eb-9ac059f78d8d",
   "metadata": {},
   "outputs": [],
   "source": []
  }
 ],
 "metadata": {
  "kernelspec": {
   "display_name": "Python 3 (ipykernel)",
   "language": "python",
   "name": "python3"
  },
  "language_info": {
   "codemirror_mode": {
    "name": "ipython",
    "version": 3
   },
   "file_extension": ".py",
   "mimetype": "text/x-python",
   "name": "python",
   "nbconvert_exporter": "python",
   "pygments_lexer": "ipython3",
   "version": "3.10.5"
  }
 },
 "nbformat": 4,
 "nbformat_minor": 5
}
