{
 "cells": [
  {
   "cell_type": "markdown",
   "id": "e58a7320-2986-4486-9d1a-2f35560ba174",
   "metadata": {},
   "source": [
    "# How to Separate Sentences in Spacy (Spacy and Python Tutorials for DH - 03)"
   ]
  },
  {
   "cell_type": "code",
   "execution_count": 40,
   "id": "64c80bdb-3ec4-40b6-a887-2c6e77859458",
   "metadata": {},
   "outputs": [],
   "source": [
    "import spacy\n",
    "\n",
    "nlp = spacy.load(\"en_core_web_sm\")\n"
   ]
  },
  {
   "cell_type": "code",
   "execution_count": 45,
   "id": "82fbcba3-c935-4ce5-a746-d7cc989d2025",
   "metadata": {},
   "outputs": [],
   "source": [
    "with open (\"./alice.txt\", \"r\") as f:\n",
    "    text = f.read().replace(\"\\n\\n\", \" \").replace(\"\\n\", \" \")\n",
    "    chapters = text.split(\"CHAPTER \")[1:]\n",
    "\n",
    "    chapter1 = chapters[0]\n"
   ]
  },
  {
   "cell_type": "code",
   "execution_count": 46,
   "id": "a3c27c9a-025a-4cf5-888b-57687636939d",
   "metadata": {},
   "outputs": [],
   "source": [
    "doc = nlp(chapter1)"
   ]
  },
  {
   "cell_type": "code",
   "execution_count": 47,
   "id": "00215e28-d4dc-4230-9066-0b2ee2755c07",
   "metadata": {},
   "outputs": [],
   "source": [
    "sentences = list(doc.sents)"
   ]
  },
  {
   "cell_type": "code",
   "execution_count": 49,
   "id": "631cab9b-3894-4a3f-8f3e-af9baa69f9e6",
   "metadata": {},
   "outputs": [
    {
     "name": "stdout",
     "output_type": "stream",
     "text": [
      "There was nothing so _very_ remarkable in that; nor did Alice think it so _very_ much out of the way to hear the Rabbit say to itself, “Oh dear!\n"
     ]
    }
   ],
   "source": [
    "print(sentences[2])"
   ]
  }
 ],
 "metadata": {
  "kernelspec": {
   "display_name": "Python 3 (ipykernel)",
   "language": "python",
   "name": "python3"
  },
  "language_info": {
   "codemirror_mode": {
    "name": "ipython",
    "version": 3
   },
   "file_extension": ".py",
   "mimetype": "text/x-python",
   "name": "python",
   "nbconvert_exporter": "python",
   "pygments_lexer": "ipython3",
   "version": "3.10.5"
  }
 },
 "nbformat": 4,
 "nbformat_minor": 5
}
