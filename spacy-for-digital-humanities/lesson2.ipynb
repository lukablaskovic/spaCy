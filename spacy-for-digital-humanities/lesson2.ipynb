{
 "cells": [
  {
   "cell_type": "markdown",
   "id": "5bf8d814-a0bf-48e2-a603-a8fe769093d5",
   "metadata": {},
   "source": [
    "# How to install SpaCy and Models (Spacy and Python Tutorials for DH 02)"
   ]
  },
  {
   "cell_type": "code",
   "execution_count": 1,
   "id": "e0862d16-18ff-49d4-ada5-41d291f8bd45",
   "metadata": {},
   "outputs": [],
   "source": [
    "import spacy\n",
    "nlp = spacy.load(\"en_core_web_sm\")\n"
   ]
  },
  {
   "cell_type": "code",
   "execution_count": null,
   "id": "be886b32-f8e6-4a28-9fd5-1bec067f6aee",
   "metadata": {},
   "outputs": [],
   "source": [
    "with open (\"./alice.txt\", \"r\") as f:\n",
    "    text = f.read()\n",
    "    chapters = text.split(\"CHAPTER \")[1:]\n",
    "    print(chapters)"
   ]
  }
 ],
 "metadata": {
  "kernelspec": {
   "display_name": "Python 3 (ipykernel)",
   "language": "python",
   "name": "python3"
  },
  "language_info": {
   "codemirror_mode": {
    "name": "ipython",
    "version": 3
   },
   "file_extension": ".py",
   "mimetype": "text/x-python",
   "name": "python",
   "nbconvert_exporter": "python",
   "pygments_lexer": "ipython3",
   "version": "3.10.5"
  }
 },
 "nbformat": 4,
 "nbformat_minor": 5
}
