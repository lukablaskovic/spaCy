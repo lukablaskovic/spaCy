{
 "cells": [
  {
   "cell_type": "markdown",
   "id": "bbd2e5bd-3b26-4114-a805-166186632cf5",
   "metadata": {},
   "source": [
    "# Spacy and Names Entity Recognition NER (SpaCy and Python Tutorial for DH 04) "
   ]
  },
  {
   "cell_type": "code",
   "execution_count": 49,
   "id": "aaf70061-d3f9-4f48-8711-63eabb2c780c",
   "metadata": {},
   "outputs": [],
   "source": [
    "import spacy\n",
    "\n",
    "nlp = spacy.load(\"en_core_web_md\")\n"
   ]
  },
  {
   "cell_type": "code",
   "execution_count": 50,
   "id": "5e6ab4f5-d1f6-42f9-843b-9fadc46782eb",
   "metadata": {},
   "outputs": [],
   "source": [
    "with open (\"./alice.txt\", \"r\") as f:\n",
    "    text = f.read().replace(\"\\n\\n\", \" \").replace(\"\\n\", \" \")\n",
    "    chapters = text.split(\"CHAPTER \")[1:]\n",
    "\n",
    "    chapter1 = chapters[0]\n"
   ]
  },
  {
   "cell_type": "code",
   "execution_count": 51,
   "id": "f0882c6a-1008-4405-a8e0-f057c902166d",
   "metadata": {},
   "outputs": [],
   "source": [
    "doc = nlp(chapter1)"
   ]
  },
  {
   "cell_type": "code",
   "execution_count": 52,
   "id": "6707259d-ff9f-436f-9e82-eab36371e2e6",
   "metadata": {},
   "outputs": [
    {
     "name": "stdout",
     "output_type": "stream",
     "text": [
      "[Alice]\n",
      "380\n",
      "PERSON\n",
      "Alice\n"
     ]
    }
   ],
   "source": [
    "sentences = list(doc.sents)\n",
    "\n",
    "sentence = (sentences[2])\n",
    "#Entity\n",
    "ents = list(sentence.ents)\n",
    "print(ents)\n",
    "print(ents[0].label)\n",
    "print(ents[0].label_)\n",
    "print(ents[0].text)"
   ]
  },
  {
   "cell_type": "code",
   "execution_count": 47,
   "id": "5937f0bd-f221-4838-9bf3-6bf24bfb67b7",
   "metadata": {},
   "outputs": [
    {
     "name": "stdout",
     "output_type": "stream",
     "text": [
      "[I. Down, Alice, Alice, Alice, Alice, Alice, Alice, Down, Alice, Alice, Alice, Alice, Alice, Alice, Alice, Alice, Alice, Alice, Alice, Alice, Alice, Alice, Alice, Alice, Alice, Alice, Alice, Alice, Alice]\n"
     ]
    }
   ],
   "source": [
    "people = []\n",
    "ents = list(doc.ents)\n",
    "for ent in ents:\n",
    "    if ent.label_ == \"PERSON\":\n",
    "        people.append(ent)\n",
    "print(people)"
   ]
  },
  {
   "cell_type": "code",
   "execution_count": null,
   "id": "be5fd94a-f0b0-4d5f-ac01-539567bd5c02",
   "metadata": {},
   "outputs": [],
   "source": []
  }
 ],
 "metadata": {
  "kernelspec": {
   "display_name": "Python 3 (ipykernel)",
   "language": "python",
   "name": "python3"
  },
  "language_info": {
   "codemirror_mode": {
    "name": "ipython",
    "version": 3
   },
   "file_extension": ".py",
   "mimetype": "text/x-python",
   "name": "python",
   "nbconvert_exporter": "python",
   "pygments_lexer": "ipython3",
   "version": "3.10.5"
  }
 },
 "nbformat": 4,
 "nbformat_minor": 5
}
