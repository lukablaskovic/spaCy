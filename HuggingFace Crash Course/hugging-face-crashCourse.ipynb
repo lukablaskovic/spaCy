{
 "cells": [
  {
   "cell_type": "markdown",
   "id": "799844a7-d05e-480b-8bf6-fb00ef498912",
   "metadata": {},
   "source": [
    "## Transformers provides thousands of pretrained models to perform tasks on different modalities such as text, vision, and audio"
   ]
  },
  {
   "cell_type": "code",
   "execution_count": null,
   "id": "6e19270a-5227-4362-a4c8-33bf2cb3bd51",
   "metadata": {},
   "outputs": [],
   "source": [
    "### 📝 Text, for tasks like text classification, information extraction, question answering, summarization, translation, text generation, in over 100 languages.\n",
    "### 🖼️ Images, for tasks like image classification, object detection, and segmentation.\n",
    "### 🗣️ Audio, for tasks like speech recognition and audio classification."
   ]
  },
  {
   "cell_type": "markdown",
   "id": "8090caea-1342-4f45-af68-88a6a3e3c4a2",
   "metadata": {},
   "source": []
  },
  {
   "cell_type": "code",
   "execution_count": 19,
   "id": "4bd925b5-e115-49c7-951c-15a2ec804680",
   "metadata": {},
   "outputs": [],
   "source": [
    "from transformers import pipeline\n",
    "from transformers import AutoTokenizer, AutoModelForSequenceClassification\n",
    "import torch\n",
    "import torch.nn.functional as F"
   ]
  },
  {
   "cell_type": "code",
   "execution_count": 22,
   "id": "5960cfa1-284f-4035-b9d9-bb57545bb6cd",
   "metadata": {},
   "outputs": [
    {
     "name": "stdout",
     "output_type": "stream",
     "text": [
      "{'label': 'POSITIVE', 'score': 0.9997994303703308}\n",
      "{'label': 'POSITIVE', 'score': 0.8319637179374695}\n"
     ]
    }
   ],
   "source": [
    "model_name = \"distilbert-base-uncased-finetuned-sst-2-english\"\n",
    "\n",
    "model = AutoModelForSequenceClassification.from_pretrained(model_name)\n",
    "tokenizer = AutoTokenizer.from_pretrained(model_name)\n",
    "\n",
    "classifier = pipeline(\"sentiment-analysis\", model = model, tokenizer = tokenizer)\n",
    "results = classifier([\"We are very happy to show you the Transformers library.\", \"We hope you don't hate it\"\n",
    "                 ])\n",
    "for result in results:\n",
    "    print(result)"
   ]
  },
  {
   "cell_type": "code",
   "execution_count": 25,
   "id": "73808f01-3c55-483e-9fc2-8f42b0ceac6f",
   "metadata": {},
   "outputs": [
    {
     "name": "stdout",
     "output_type": "stream",
     "text": [
      "['we', 'are', 'very', 'happy', 'to', 'show', 'you', 'the', 'transformers', 'library', '.']\n",
      "[2057, 2024, 2200, 3407, 2000, 2265, 2017, 1996, 19081, 3075, 1012]\n",
      "{'input_ids': [101, 2057, 2024, 2200, 3407, 2000, 2265, 2017, 1996, 19081, 3075, 1012, 102], 'attention_mask': [1, 1, 1, 1, 1, 1, 1, 1, 1, 1, 1, 1, 1]}\n"
     ]
    }
   ],
   "source": [
    "tokens = tokenizer.tokenize(\"We are very happy to show you the Transformers library.\")\n",
    "token_ids = tokenizer.convert_tokens_to_ids(tokens)\n",
    "input_ids = tokenizer(\"We are very happy to show you the Transformers library.\")\n",
    "print(tokens)\n",
    "print(token_ids) #Numerical representation\n",
    "print(input_ids) #Dict, same as token_ids, along with 101-102 points"
   ]
  },
  {
   "cell_type": "code",
   "execution_count": 27,
   "id": "d7460fab-955c-49be-8714-1e129491821f",
   "metadata": {},
   "outputs": [
    {
     "name": "stdout",
     "output_type": "stream",
     "text": [
      "{'input_ids': tensor([[  101,  2057,  2024,  2200,  3407,  2000,  2265,  2017,  1996, 19081,\n",
      "          3075,  1012,   102],\n",
      "        [  101,  2057,  3246,  2017,  2123,  1005,  1056,  5223,  2009,   102,\n",
      "             0,     0,     0]]), 'attention_mask': tensor([[1, 1, 1, 1, 1, 1, 1, 1, 1, 1, 1, 1, 1],\n",
      "        [1, 1, 1, 1, 1, 1, 1, 1, 1, 1, 0, 0, 0]])}\n"
     ]
    }
   ],
   "source": [
    "X_train = [\"We are very happy to show you the Transformers library.\", \"We hope you don't hate it\"]\n",
    "batch = tokenizer(X_train, padding=True, truncation = True, max_length=512, return_tensors = \"pt\")\n",
    "print(batch)"
   ]
  },
  {
   "cell_type": "code",
   "execution_count": 30,
   "id": "2e149a66-d877-433e-b49a-30f31b834b04",
   "metadata": {},
   "outputs": [
    {
     "ename": "SyntaxError",
     "evalue": "invalid syntax. Maybe you meant '==' or ':=' instead of '='? (3746814370.py, line 6)",
     "output_type": "error",
     "traceback": [
      "\u001b[0;36m  Cell \u001b[0;32mIn [30], line 6\u001b[0;36m\u001b[0m\n\u001b[0;31m    labels = torch.argmax((predictions, dim=1))\u001b[0m\n\u001b[0m                                        ^\u001b[0m\n\u001b[0;31mSyntaxError\u001b[0m\u001b[0;31m:\u001b[0m invalid syntax. Maybe you meant '==' or ':=' instead of '='?\n"
     ]
    }
   ],
   "source": [
    "with torch.no_grad():\n",
    "    outputs = model(**batch)\n",
    "    print(outputs)\n",
    "    predictions = F.softmax(outputs.logits, dim = 1)\n",
    "    print(predictions)\n",
    "    labels = torch.argmax(predictions, dim=1)\n",
    "    print(labels)\n",
    "    labels = [model.config.id2label[label_id] for label_id in labels.tolist()]\n",
    "    print(labels)"
   ]
  }
 ],
 "metadata": {
  "kernelspec": {
   "display_name": "Python 3 (ipykernel)",
   "language": "python",
   "name": "python3"
  },
  "language_info": {
   "codemirror_mode": {
    "name": "ipython",
    "version": 3
   },
   "file_extension": ".py",
   "mimetype": "text/x-python",
   "name": "python",
   "nbconvert_exporter": "python",
   "pygments_lexer": "ipython3",
   "version": "3.10.5"
  }
 },
 "nbformat": 4,
 "nbformat_minor": 5
}
